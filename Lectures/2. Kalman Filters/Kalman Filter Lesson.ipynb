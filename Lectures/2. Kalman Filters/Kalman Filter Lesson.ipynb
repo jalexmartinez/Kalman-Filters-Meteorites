{
 "cells": [
  {
   "cell_type": "code",
   "execution_count": 7,
   "metadata": {},
   "outputs": [],
   "source": [
    "import numpy as np\n",
    "import matrix as matrix"
   ]
  },
  {
   "cell_type": "code",
   "execution_count": 60,
   "metadata": {},
   "outputs": [],
   "source": [
    "def kalman_filter(x, P, measurements):\n",
    "    \n",
    "    u = matrix.matrix([[0], [0]])  # external motion\n",
    "    F = matrix.matrix([[1, 1], [0, 1]])  # next state function\n",
    "    H = matrix.matrix([[1, 0]])  # measurement function\n",
    "    R = matrix.matrix([[1]])  # measurement uncertainty\n",
    "    I = matrix.matrix([[1, 0], [0, 1]])  # identity matrix\n",
    "    \n",
    "    for measure in measurements:\n",
    "        y = matrix.matrix([[measure]]) - H*x\n",
    "        S = H * P * H.transpose() + R\n",
    "        K = P * H.transpose() * S.inverse()\n",
    "\n",
    "        x_p = x + (K*y)\n",
    "        P_p = (I-K*H)*P\n",
    "\n",
    "        x = F*x_p + u\n",
    "        P = F*P_p*F.transpose()\n",
    "        \n",
    "    return x, P"
   ]
  },
  {
   "cell_type": "code",
   "execution_count": 61,
   "metadata": {},
   "outputs": [],
   "source": [
    "measurements = [1, 2, 3]\n",
    "\n",
    "x = matrix.matrix([[0], [0]])  # initial state (location and velocity)\n",
    "P = matrix.matrix([[1000, 0], [0, 1000]])  # initial uncertainty\n"
   ]
  },
  {
   "cell_type": "code",
   "execution_count": 62,
   "metadata": {},
   "outputs": [
    {
     "name": "stdout",
     "output_type": "stream",
     "text": [
      "x:\n",
      "[3.9996664447958645]\n",
      "[0.9999998335552873]\n",
      " \n",
      "P:\n",
      "[2.3318904241194827, 0.9991676099921091]\n",
      "[0.9991676099921067, 0.49950058263974184]\n",
      " \n"
     ]
    }
   ],
   "source": [
    "x, P = kalman_filter(x, P, measurements)\n",
    "print('x:')\n",
    "x.show()\n",
    "print('P:')\n",
    "P.show()"
   ]
  },
  {
   "cell_type": "code",
   "execution_count": 52,
   "metadata": {},
   "outputs": [],
   "source": [
    "    u = matrix.matrix([[0], [0]])  # external motion\n",
    "    F = matrix.matrix([[1, 1], [0, 1]])  # next state function\n",
    "    H = matrix.matrix([[1, 0]])  # measurement function\n",
    "    R = matrix.matrix([[1]])  # measurement uncertainty\n",
    "    I = matrix.matrix([[1, 0], [0, 1]])  # identity matrix"
   ]
  },
  {
   "cell_type": "code",
   "execution_count": 28,
   "metadata": {},
   "outputs": [],
   "source": [
    "x_p = F*x + u"
   ]
  },
  {
   "cell_type": "code",
   "execution_count": 29,
   "metadata": {},
   "outputs": [],
   "source": [
    "P_p = F*P*F.transpose()"
   ]
  },
  {
   "cell_type": "code",
   "execution_count": 45,
   "metadata": {},
   "outputs": [],
   "source": [
    "y = matrix.matrix([[measurements[0]]]) - H*x"
   ]
  },
  {
   "cell_type": "code",
   "execution_count": 42,
   "metadata": {},
   "outputs": [],
   "source": [
    "S = H * P * H.transpose() + R"
   ]
  },
  {
   "cell_type": "code",
   "execution_count": 43,
   "metadata": {},
   "outputs": [],
   "source": [
    "K = P * H.transpose() * S.inverse()"
   ]
  },
  {
   "cell_type": "code",
   "execution_count": 46,
   "metadata": {},
   "outputs": [],
   "source": [
    "x_p = x + (K*y)"
   ]
  },
  {
   "cell_type": "code",
   "execution_count": 47,
   "metadata": {},
   "outputs": [],
   "source": [
    "P_p = (I-K*H)*P"
   ]
  },
  {
   "cell_type": "code",
   "execution_count": 48,
   "metadata": {},
   "outputs": [
    {
     "name": "stdout",
     "output_type": "stream",
     "text": [
      "[0.9990009990011872, 0.0]\n",
      "[0.0, 1000.0]\n",
      " \n"
     ]
    }
   ],
   "source": [
    "P_p.show()"
   ]
  },
  {
   "cell_type": "code",
   "execution_count": null,
   "metadata": {},
   "outputs": [],
   "source": []
  }
 ],
 "metadata": {
  "kernelspec": {
   "display_name": "Python 3",
   "language": "python",
   "name": "python3"
  },
  "language_info": {
   "codemirror_mode": {
    "name": "ipython",
    "version": 3
   },
   "file_extension": ".py",
   "mimetype": "text/x-python",
   "name": "python",
   "nbconvert_exporter": "python",
   "pygments_lexer": "ipython3",
   "version": "3.8.10"
  }
 },
 "nbformat": 4,
 "nbformat_minor": 4
}
